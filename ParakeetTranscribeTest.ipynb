{
 "cells": [
  {
   "cell_type": "code",
   "execution_count": null,
   "id": "c02efb16",
   "metadata": {},
   "outputs": [],
   "source": [
    "# %pip install parakeet-mlx -U\n",
    "# %pip install ipywidgets"
   ]
  },
  {
   "cell_type": "code",
   "execution_count": 1,
   "id": "15517997",
   "metadata": {},
   "outputs": [],
   "source": [
    "from parakeet_mlx import from_pretrained\n",
    "model = from_pretrained(\"mlx-community/parakeet-tdt-0.6b-v2\")"
   ]
  },
  {
   "cell_type": "code",
   "execution_count": 4,
   "id": "511fbd4b",
   "metadata": {},
   "outputs": [
    {
     "name": "stdout",
     "output_type": "stream",
     "text": [
      "We, the people of the United States, in order to form a more perfect union, establish justice, ensure just your tranquility, provide for the future, promote general welfare, and secure the blessings of liberty to ourselves and our posterity, ordain and establish this constitution for the United States of America.\n"
     ]
    }
   ],
   "source": [
    "result = model.transcribe(\"audio_file2.wav\")\n",
    "\n",
    "print(result.text)"
   ]
  }
 ],
 "metadata": {
  "kernelspec": {
   "display_name": ".venv",
   "language": "python",
   "name": "python3"
  },
  "language_info": {
   "codemirror_mode": {
    "name": "ipython",
    "version": 3
   },
   "file_extension": ".py",
   "mimetype": "text/x-python",
   "name": "python",
   "nbconvert_exporter": "python",
   "pygments_lexer": "ipython3",
   "version": "3.13.5"
  }
 },
 "nbformat": 4,
 "nbformat_minor": 5
}
