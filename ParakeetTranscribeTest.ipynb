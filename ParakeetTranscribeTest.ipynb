{
 "cells": [
  {
   "cell_type": "markdown",
   "id": "319fb6a0",
   "metadata": {},
   "source": [
    "## Parakeet Transcription Test\n",
    "\n",
    "This notebook is just me playing around with the new Parakeet transcription models with less than ideal recordings.\n",
    "\n",
    "### Links\n",
    "\n",
    "* [https://huggingface.co/nvidia/parakeet-tdt-0.6b-v2](https://huggingface.co/nvidia/parakeet-tdt-0.6b-v2)\n",
    "* [https://github.com/senstella/parakeet-mlx](https://github.com/senstella/parakeet-mlx)\n",
    "* [https://developer.nvidia.com/blog/pushing-the-boundaries-of-speech-recognition-with-nemo-parakeet-asr-models/](https://developer.nvidia.com/blog/pushing-the-boundaries-of-speech-recognition-with-nemo-parakeet-asr-models/)"
   ]
  },
  {
   "cell_type": "markdown",
   "id": "9cd38414",
   "metadata": {},
   "source": [
    "### Virtual Environment Dependencies"
   ]
  },
  {
   "cell_type": "code",
   "execution_count": null,
   "id": "c02efb16",
   "metadata": {},
   "outputs": [],
   "source": [
    "# %pip install parakeet-mlx -U\n",
    "# %pip install ipywidgets"
   ]
  },
  {
   "cell_type": "markdown",
   "id": "5d3530ad",
   "metadata": {},
   "source": [
    "### Code"
   ]
  },
  {
   "cell_type": "code",
   "execution_count": 1,
   "id": "15517997",
   "metadata": {},
   "outputs": [],
   "source": [
    "from parakeet_mlx import from_pretrained\n",
    "model = from_pretrained(\"mlx-community/parakeet-tdt-0.6b-v2\")"
   ]
  },
  {
   "cell_type": "code",
   "execution_count": null,
   "id": "511fbd4b",
   "metadata": {},
   "outputs": [
    {
     "name": "stdout",
     "output_type": "stream",
     "text": [
      "We, the people of the United States, in order to form a more perfect union, establish justice, ensure just your tranquility, provide for the future, promote general welfare, and secure the blessings of liberty to ourselves and our posterity, ordain and establish this constitution for the United States of America.\n"
     ]
    }
   ],
   "source": [
    "# Used to transcribe the MLK Jr I have a Dream speech to avoid memorty issues\n",
    "# result = model.transcribe(\"audio_file.wav\", chunk_duration=60 * 2.0, overlap_duration=15.0)\n",
    "\n",
    "# Used to transcrive a small audio file of me reading the preamble to the US Constitution\n",
    "result = model.transcribe(\"audio_file2.wav\")\n",
    "\n",
    "print(result.text)"
   ]
  },
  {
   "cell_type": "markdown",
   "id": "c2e2d900",
   "metadata": {},
   "source": [
    "### Results\n",
    "\n",
    "The poor audio quality, 16 minute MLK Jr *I have a Dream* speech transcribed in under a minute. The results were poor as shown in the audio_file.txt ouput.\n",
    "\n",
    "The slightly better quality (though still not great) preamble reading transcribed in 2 seconds. The results were much better and are inlcuded in the audio_file2.txt output.\n",
    "\n",
    "Overall, though, based on the output I got and the reviews online, I do think the parakeet models are impressive. I'll probably try this with \"real\" recordings at some point just to text the accuracy with less challanging audio files."
   ]
  }
 ],
 "metadata": {
  "kernelspec": {
   "display_name": ".venv",
   "language": "python",
   "name": "python3"
  },
  "language_info": {
   "codemirror_mode": {
    "name": "ipython",
    "version": 3
   },
   "file_extension": ".py",
   "mimetype": "text/x-python",
   "name": "python",
   "nbconvert_exporter": "python",
   "pygments_lexer": "ipython3",
   "version": "3.13.5"
  }
 },
 "nbformat": 4,
 "nbformat_minor": 5
}
